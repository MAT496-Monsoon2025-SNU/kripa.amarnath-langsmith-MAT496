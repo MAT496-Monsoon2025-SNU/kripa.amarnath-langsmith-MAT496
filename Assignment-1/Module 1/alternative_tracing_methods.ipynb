{
 "cells": [
  {
   "cell_type": "code",
   "execution_count": 50,
   "id": "1ac1a3ff",
   "metadata": {},
   "outputs": [
    {
     "name": "stdout",
     "output_type": "stream",
     "text": [
      "<think>\n",
      "Okay, so I need to figure out the main benefit of using open-source embedding models. Let me start by recalling what I know about embeddings and open-source models. \n",
      "\n",
      "Embeddings are a way to represent text (or other data) as vectors in a high-dimensional space, which can then be used for various NLP tasks like semantic search, clustering, or classification. Open-source means that the models are freely available for anyone to use, modify, and distribute. \n",
      "\n",
      "The context provided mentions Hugging Face as a provider of open-source models for embeddings. It also notes that these models can be run locally or via an API. So, one benefit could be cost-effectiveness since open-source models are free. \n",
      "\n",
      "Another point is customization. Since the models are open-source, users can tweak them to fit specific needs, which might not be possible with proprietary models. This could be especially useful for domain-specific applications where a general model might not perform well. \n",
      "\n",
      "Additionally, using open-source models might reduce dependency on third-party services, giving more control over data and deployment. This can be crucial for organizations with strict data privacy requirements or those who want to avoid vendor lock-in. \n",
      "\n",
      "On the other hand, open-source models might require more expertise to implement and maintain, especially for those without prior experience. But the main benefits likely revolve around accessibility, cost, and flexibility. \n",
      "\n",
      "So, putting it together, the main benefit is probably accessibility and flexibility, allowing developers to use and customize the models without licensing restrictions or costs.\n",
      "</think>\n",
      "\n",
      "The main benefit of using open-source embedding models is their accessibility and flexibility, enabling developers to use and customize them without licensing restrictions or costs.\n"
     ]
    }
   ],
   "source": [
    "\n",
    "question = \"What is the main benefit of using open-source embedding models?\" \n",
    "ai_answer = langsmith_rag(question)\n",
    "print(ai_answer)"
   ]
  },
  {
   "cell_type": "code",
   "execution_count": 35,
   "id": "ad501abf",
   "metadata": {},
   "outputs": [
    {
     "name": "stdout",
     "output_type": "stream",
     "text": [
      "Loading FAISS vector database from faiss_index_hf with Hugging Face embeddings...\n",
      "FAISS vector database loaded.\n"
     ]
    }
   ],
   "source": [
    "from langsmith import RunTree\n",
    "from groq import Groq\n",
    "from typing import List\n",
    "import nest_asyncio\n",
    "from utils_hf_embeddings import get_hf_vector_db_retriever \n",
    "import os \n",
    "\n",
    "os.environ[\"GROQ_API_KEY\"] = \"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\"\n",
    "groq_client = Groq()r\n",
    "retriever = get_hf_vector_db_retriever() \n",
    "\n",
    "def retrieve_documents(parent_run: RunTree, question: str):\n",
    "    child_run = parent_run.create_child(\n",
    "        name=\"Retrieve Documents\",\n",
    "        run_type=\"retriever\",\n",
    "        inputs={\"question\": question},\n",
    "    )\n",
    "    documents = retriever.invoke(question)\n",
    "    child_run.end(outputs={\"documents\": documents})\n",
    "    child_run.post()\n",
    "    return documents\n",
    "\n",
    "def generate_response(parent_run: RunTree, question: str, documents):\n",
    "    formatted_docs = \"\\n\\n\".join(doc.page_content for doc in documents)\n",
    "    rag_system_prompt = \"\"\"You are an assistant for question-answering tasks. \n",
    "    Use the following pieces of retrieved context to answer the latest question in the conversation. \n",
    "    If you don't know the answer, just say that you don't know. \n",
    "    Use three sentences maximum and keep the answer concise.\n",
    "    \"\"\"\n",
    "    child_run = parent_run.create_child(\n",
    "        name=\"Generate Response\",\n",
    "        run_type=\"chain\",\n",
    "        inputs={\"question\": question, \"documents\": documents},\n",
    "    )\n",
    "    messages = [ \n",
    "        {\n",
    "            \"role\": \"system\",\n",
    "            \"content\": rag_system_prompt\n",
    "        },\n",
    "        {\n",
    "            \"role\": \"user\",\n",
    "            \"content\": f\"Context: {formatted_docs} \\n\\n Question: {question}\"\n",
    "        }\n",
    "    ]\n",
    "    groq_response = call_groq(child_run, messages)\n",
    "    child_run.end(outputs={\"groq_response\": groq_response})\n",
    "    child_run.post()\n",
    "    return groq_response\n",
    "\n",
    "def call_groq(\n",
    "    parent_run: RunTree, messages: List[dict], model: str = \"deepseek-r1-distill-llama-70b\", temperature: float = 0.0\n",
    ") -> str:\n",
    "    child_run = parent_run.create_child(\n",
    "        name=\"Groq Call\",\n",
    "        run_type=\"llm\",\n",
    "        inputs={\"messages\": messages},\n",
    "    )\n",
    "    groq_response = groq_client.chat.completions.create(\n",
    "        model=model,\n",
    "        messages=messages,\n",
    "        temperature=temperature,\n",
    "    )\n",
    "    child_run.end(outputs={\"groq_response\": groq_response})\n",
    "    child_run.post()\n",
    "    return groq_response\n",
    "\n",
    "def langsmith_rag(question: str):\n",
    "    root_run_tree = RunTree(\n",
    "        name=\"Chat Pipeline\",\n",
    "        run_type=\"chain\",\n",
    "        inputs={\"question\": question}\n",
    "    )\n",
    "\n",
    "    documents = retrieve_documents(root_run_tree, question)\n",
    "    response = generate_response(root_run_tree, question, documents)\n",
    "    output = response.choices[0].message.content\n",
    "\n",
    "    root_run_tree.end(outputs={\"generation\": output})\n",
    "    root_run_tree.post()\n",
    "    return output"
   ]
  },
  {
   "cell_type": "code",
   "execution_count": 49,
   "id": "667175c0",
   "metadata": {},
   "outputs": [
    {
     "data": {
      "text/plain": [
       "False"
      ]
     },
     "execution_count": 49,
     "metadata": {},
     "output_type": "execute_result"
    }
   ],
   "source": [
    "\n",
    "import os\n",
    "os.environ[\"LANGSMITH_TRACING\"] = \"false\"\n",
    "\n",
    "from langsmith import utils\n",
    "utils.tracing_is_enabled()"
   ]
  },
  {
   "cell_type": "code",
   "execution_count": 48,
   "id": "1af7f73c",
   "metadata": {},
   "outputs": [
    {
     "data": {
      "text/plain": [
       "False"
      ]
     },
     "execution_count": 48,
     "metadata": {},
     "output_type": "execute_result"
    }
   ],
   "source": [
    "\n",
    "from dotenv import load_dotenv\n",
    "load_dotenv(dotenv_path=\"../../.env\", override=True)\n"
   ]
  },
  {
   "cell_type": "code",
   "execution_count": 47,
   "id": "a259b79e",
   "metadata": {},
   "outputs": [
    {
     "name": "stdout",
     "output_type": "stream",
     "text": [
      "<think>\n",
      "Okay, so I need to figure out how many legs a cat has. Hmm, I'm pretty sure cats are animals, and most animals have legs, but I'm not exactly sure about the exact number. Let me think about what I know about cats.\n",
      "\n",
      "First, I remember seeing cats in pictures and in real life. They have this typical posture, usually sitting or walking on the ground. I think they have four legs because when I look at a cat, I can see two in the front and two in the back. Wait, but sometimes when a cat is sitting, it's a bit hard to see all the legs clearly because they might be tucked under the body.\n",
      "\n",
      "Let me try to visualize a cat. So, from the front, a cat has two legs on the left and two on the right, making four in total. But I'm not entirely certain. Maybe I should think about other animals. Dogs, for example, have four legs too. So, maybe cats are similar. But wait, are there any animals that have a different number of legs? Like, I know spiders have eight legs, but that's different because they're arachnids, not mammals.\n",
      "\n",
      "Cats are mammals, right? And most mammals have four legs. Horses, cows, dogs—all have four legs. So, that makes me think cats do too. But I'm still a bit unsure because sometimes when I see a cat sitting, it looks like it's using its hind legs more prominently, and the front legs might be hidden. Maybe I'm confusing the legs with the paws? No, paws are the feet, so each leg ends with a paw.\n",
      "\n",
      "Wait, maybe I should count them. If I imagine a cat standing up, it has two legs in the front, each ending with a paw, and two legs in the back, each also ending with a paw. That makes four legs in total. Yeah, that makes sense. Plus, I've heard people refer to cats as having four legs before, so that reinforces the idea.\n",
      "\n",
      "I guess another way to think about it is by looking at the skeleton of a cat. I don't have one in front of me, but I know that quadruped mammals have four legs. Since cats are quadrupeds, they should have four legs. Each leg is connected to the spine, with two in the front and two in the back. So, that adds up to four.\n",
      "\n",
      "Wait, but sometimes cats can lose a leg due to an accident, but that's not common. Normally, they have four. So, I think I'm confident now that the answer is four legs.\n",
      "</think>\n",
      "\n",
      "A cat has four legs. This conclusion is based on the typical anatomy of quadruped mammals, which includes cats, and the observation of their posture and movement. Each leg is connected to the spine, with two in the front and two in the back, making a total of four legs.\n"
     ]
    }
   ],
   "source": [
    "\n",
    "from langsmith import trace \n",
    "\n",
    "messages = [\n",
    "    {\n",
    "        \"role\": \"user\",\n",
    "        \"content\": \"How many legs does a cat have?\"\n",
    "    }\n",
    "]\n",
    "\n",
    "with trace(\"Groq Direct Call\", run_type=\"llm\", extra={\"metadata\": {\"foo\": \"bar\"}}) as t:\n",
    "    response = groq_client.chat.completions.create(\n",
    "        model=MODEL_NAME,\n",
    "        messages=messages,\n",
    "    )\n",
    "    \n",
    "    t.end(outputs={\"response\": response})\n",
    "    print(response.choices[0].message.content) "
   ]
  },
  {
   "cell_type": "code",
   "execution_count": 43,
   "id": "3d3d3784",
   "metadata": {},
   "outputs": [
    {
     "name": "stdout",
     "output_type": "stream",
     "text": [
      "<think>\n",
      "Okay, so I need to figure out how Hugging Face contributes to NLP. Let me start by recalling what I know about Hugging Face. From the context provided, it mentions that Hugging Face offers open-source models for various NLP tasks, including embeddings. These models can be run locally or via their inference API. \n",
      "\n",
      "Hmm, so Hugging Face provides models, which is a big part of NLP. But what else? The context also talks about LangChain, which is a framework for building applications with language models. It enables context-aware, reasoning, and acting applications. Wait, but the question is about Hugging Face, not LangChain.\n",
      "\n",
      "So, focusing back on Hugging Face. They provide models, which is key because without good models, NLP tasks would be harder. They also offer these models through an API, making it easier for developers to use without having to host the models themselves. Plus, the models can be run locally, which gives flexibility depending on the use case.\n",
      "\n",
      "Additionally, Hugging Face's contribution isn't just about the models themselves. They have a community-driven approach, which probably leads to more innovation and collaboration in the NLP space. They might also provide tools and libraries that make it easier to implement NLP solutions, like their Transformers library which is widely used.\n",
      "\n",
      "So putting it all together, Hugging Face contributes by offering open-source NLP models, providing accessible ways to use these models (both locally and via API), fostering a community for collaboration, and providing tools that simplify NLP tasks. This makes NLP more accessible and advances the field by enabling researchers and developers to build upon their resources.\n",
      "</think>\n",
      "\n",
      "Hugging Face contributes to NLP by providing open-source models for various tasks, including embeddings, which can be accessed locally or via an API. They foster innovation through community collaboration and offer tools like their Transformers library, simplifying NLP implementation and advancing the field.\n"
     ]
    }
   ],
   "source": [
    "question = \"How does Hugging Face contribute to NLP?\"\n",
    "ai_answer = langsmith_rag_with_wrap_groq(question)\n",
    "print(ai_answer)\n"
   ]
  },
  {
   "cell_type": "code",
   "execution_count": 42,
   "id": "acf55c5f",
   "metadata": {},
   "outputs": [
    {
     "name": "stdout",
     "output_type": "stream",
     "text": [
      "Loading FAISS vector database from faiss_index_hf with Hugging Face embeddings...\n",
      "FAISS vector database loaded.\n"
     ]
    }
   ],
   "source": [
    "\n",
    "import groq\n",
    "from typing import List\n",
    "import nest_asyncio\n",
    "from utils_hf_embeddings import get_hf_vector_db_retriever \n",
    "import os \n",
    "\n",
    "MODEL_PROVIDER = \"groq\"\n",
    "MODEL_NAME = \"deepseek-r1-distill-llama-70b\"\n",
    "APP_VERSION = 1.0\n",
    "RAG_SYSTEM_PROMPT = \"\"\"You are an assistant for question-answering tasks. \n",
    "Use the following pieces of retrieved context to answer the latest question in the conversation. \n",
    "If you don't know the answer, just say that you don't know. \n",
    "Use three sentences maximum and keep the answer concise.\n",
    "\"\"\"\n",
    "\n",
    "os.environ[\"GROQ_API_KEY\"] = \"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\"\n",
    "groq_client = groq.Groq()\n",
    "retriever = get_hf_vector_db_retriever() \n",
    "\n",
    "@traceable(run_type=\"chain\")\n",
    "def retrieve_documents(question: str):\n",
    "    return retriever.invoke(question)\n",
    "\n",
    "@traceable(run_type=\"chain\")\n",
    "def generate_response(question: str, documents):\n",
    "    formatted_docs = \"\\n\\n\".join(doc.page_content for doc in documents)\n",
    "    messages = [\n",
    "        {\n",
    "            \"role\": \"system\",\n",
    "            \"content\": RAG_SYSTEM_PROMPT\n",
    "        },\n",
    "        {\n",
    "            \"role\": \"user\",\n",
    "            \"content\": f\"Context: {formatted_docs} \\n\\n Question: {question}\"\n",
    "        }\n",
    "    ]\n",
    "    return call_groq(messages)\n",
    "\n",
    "@traceable\n",
    "def call_groq(\n",
    "    messages: List[dict],\n",
    ") -> str:\n",
    "    return groq_client.chat.completions.create(\n",
    "        model=MODEL_NAME,\n",
    "        messages=messages,\n",
    "    )\n",
    "\n",
    "@traceable(run_type=\"chain\")\n",
    "def langsmith_rag_with_wrap_groq(question: str):\n",
    "    documents = retrieve_documents(question)\n",
    "    response = generate_response(question, documents)\n",
    "    return response.choices[0].message.content"
   ]
  },
  {
   "cell_type": "code",
   "execution_count": 41,
   "id": "e2c482a7",
   "metadata": {},
   "outputs": [
    {
     "name": "stdout",
     "output_type": "stream",
     "text": [
      "<think>\n",
      "Okay, I'm trying to figure out the primary purpose of LangChain. I remember seeing some context provided earlier about it. Let me go through that again. \n",
      "\n",
      "The context mentions that LangChain is a framework for developing applications powered by language models. It enables applications that are context-aware, reason, and can act. So, it's used for building apps with these advanced capabilities.\n",
      "\n",
      "Wait, the user's question is asking for the primary purpose, so I should focus on what it's mainly used for. From the context, it's clear that LangChain is a framework that helps create applications using language models, making them context-aware and capable of reasoning and acting.\n",
      "\n",
      "I don't see any other details about its other purposes, so the main purpose must be to provide the infrastructure for such applications. I should keep the answer concise and within three sentences.\n",
      "</think>\n",
      "\n",
      "The primary purpose of LangChain is to provide a framework for developing applications powered by language models, enabling them to be context-aware, reason, and act.\n"
     ]
    }
   ],
   "source": [
    "\n",
    "question = \"What is the primary purpose of LangChain?\" \n",
    "ai_answer = langsmith_rag(question)\n",
    "print(ai_answer)"
   ]
  },
  {
   "cell_type": "code",
   "execution_count": 40,
   "id": "e91f5878",
   "metadata": {},
   "outputs": [
    {
     "name": "stdout",
     "output_type": "stream",
     "text": [
      "Loading FAISS vector database from faiss_index_hf with Hugging Face embeddings...\n",
      "FAISS vector database loaded.\n"
     ]
    }
   ],
   "source": [
    "from langsmith import traceable, trace\n",
    "from groq import Groq\n",
    "from typing import List\n",
    "import nest_asyncio\n",
    "from utils_hf_embeddings import get_hf_vector_db_retriever \n",
    "import os \n",
    "\n",
    "MODEL_PROVIDER = \"groq\"\n",
    "MODEL_NAME = \"deepseek-r1-distill-llama-70b\"\n",
    "APP_VERSION = 1.0\n",
    "RAG_SYSTEM_PROMPT = \"\"\"You are an assistant for question-answering tasks. \n",
    "Use the following pieces of retrieved context to answer the latest question in the conversation. \n",
    "If you don't know the answer, just say that you don't know. \n",
    "Use three sentences maximum and keep the answer concise.\n",
    "\"\"\"\n",
    "\n",
    "os.environ[\"GROQ_API_KEY\"] = \"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\" \n",
    "groq_client = Groq()\n",
    "retriever = get_hf_vector_db_retriever() \n",
    "\n",
    "@traceable\n",
    "def retrieve_documents(question: str):\n",
    "    documents = retriever.invoke(question)\n",
    "    return documents\n",
    "\n",
    "@traceable\n",
    "def generate_response(question: str, documents):\n",
    "    formatted_docs = \"\\n\\n\".join(doc.page_content for doc in documents)\n",
    "\n",
    "    messages = [\n",
    "        {\n",
    "            \"role\": \"system\",\n",
    "            \"content\": RAG_SYSTEM_PROMPT\n",
    "        },\n",
    "        {\n",
    "            \"role\": \"user\",\n",
    "            \"content\": f\"Context: {formatted_docs} \\n\\n Question: {question}\"\n",
    "        }\n",
    "    ]\n",
    "    response = call_groq(messages)\n",
    "    return response\n",
    "\n",
    "@traceable\n",
    "def call_groq(\n",
    "    messages: List[dict], model: str = MODEL_NAME, temperature: float = 0.0\n",
    ") -> str:\n",
    "    response = groq_client.chat.completions.create(\n",
    "        model=model,\n",
    "        messages=messages,\n",
    "        temperature=temperature,\n",
    "    )\n",
    "    return response\n",
    "\n",
    "@traceable\n",
    "def langsmith_rag(question: str):\n",
    "    documents = retrieve_documents(question)\n",
    "    response = generate_response(question, documents)\n",
    "    return response.choices[0].message.content"
   ]
  },
  {
   "cell_type": "code",
   "execution_count": 39,
   "id": "b925715d",
   "metadata": {},
   "outputs": [
    {
     "data": {
      "text/plain": [
       "{'question': 'Can tracing be set up when the code is running in langsmith?',\n",
       " 'messages': [HumanMessage(content='Can tracing be set up when the code is running in langsmith?', additional_kwargs={}, response_metadata={}),\n",
       "  AIMessage(content=\"<think>\\nOkay, so the user is asking if tracing can be set up when the code is running in Langsmith. I don't have any specific information about Langsmith in the context provided. The context talks about LangChain, Hugging Face, and FAISS, but nothing about Langsmith. Since I don't have details on Langsmith's features or capabilities, I can't confirm whether tracing is possible there. I should let the user know that I don't have the answer based on the provided context.\\n</think>\\n\\nI don't know.\", additional_kwargs={}, response_metadata={'token_usage': {'completion_tokens': 111, 'prompt_tokens': 165, 'total_tokens': 276, 'completion_time': 0.47511181, 'prompt_time': 0.029352574, 'queue_time': 0.0420559, 'total_time': 0.504464384}, 'model_name': 'deepseek-r1-distill-llama-70b', 'system_fingerprint': 'fp_1bbe7845ec', 'service_tier': 'on_demand', 'finish_reason': 'stop', 'logprobs': None}, id='run--3ae82526-b3fe-4df1-a7e1-088dd574eacc-0', usage_metadata={'input_tokens': 165, 'output_tokens': 111, 'total_tokens': 276})],\n",
       " 'documents': [Document(id='2cc0d07f-b3ab-4d2f-90ce-bb2757e21a82', metadata={'source': 'state_of_the_union.txt'}, page_content='The quick brown fox jumps over the lazy dog. This is a sample document for testing Hugging Face embeddings and FAISS vector store functionality.\\n\\nLangChain is a framework for developing applications powered by language models. It enables applications that are context-aware, reason, and can act.\\n\\nHugging Face provides open-source models for various NLP tasks, including embeddings. These models can be run locally or via their inference API.')]}"
      ]
     },
     "execution_count": 39,
     "metadata": {},
     "output_type": "execute_result"
    }
   ],
   "source": [
    "#cell 3\n",
    "question = \"Can tracing be set up when the code is running in langsmith?\"\n",
    "simple_rag_graph.invoke({\"question\": question}, config={\"metadata\": {\"foo\": \"bar\"}})"
   ]
  },
  {
   "cell_type": "code",
   "execution_count": 38,
   "id": "405769e4",
   "metadata": {},
   "outputs": [
    {
     "name": "stdout",
     "output_type": "stream",
     "text": [
      "Loading FAISS vector database from faiss_index_hf with Hugging Face embeddings...\n",
      "FAISS vector database loaded.\n"
     ]
    },
    {
     "data": {
      "image/png": "[encoded data removed]",
      "text/plain": [
       "<IPython.core.display.Image object>"
      ]
     },
     "metadata": {},
     "output_type": "display_data"
    }
   ],
   "source": [
    "\n",
    "import nest_asyncio\n",
    "nest_asyncio.apply() \n",
    "\n",
    "import operator\n",
    "from langchain.schema import Document\n",
    "from langchain_core.messages import HumanMessage, AnyMessage, get_buffer_string\n",
    "from langchain_groq import ChatGroq\n",
    "from langgraph.graph import StateGraph, START, END\n",
    "from IPython.display import Image, display\n",
    "from typing import List\n",
    "from typing_extensions import TypedDict, Annotated\n",
    "from utils_hf_embeddings import get_hf_vector_db_retriever, RAG_PROMPT \n",
    "import os \n",
    "\n",
    "os.environ[\"GROQ_API_KEY\"] = \"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\" \n",
    "\n",
    "retriever = get_hf_vector_db_retriever()\n",
    "llm = ChatGroq(model_name=\"deepseek-r1-distill-llama-70b\", temperature=0)\n",
    "\n",
    "class GraphState(TypedDict):\n",
    "    question: str\n",
    "    messages: Annotated[List[AnyMessage], operator.add]\n",
    "    documents: List[Document]\n",
    "\n",
    "def retrieve_documents(state: GraphState):\n",
    "    messages = state.get(\"messages\", [])\n",
    "    question = state[\"question\"]\n",
    "    documents = retriever.invoke(f\"{get_buffer_string(messages)} {question}\")\n",
    "    return {\"documents\": documents}\n",
    "\n",
    "def generate_response(state: GraphState):\n",
    "    question = state[\"question\"]\n",
    "    messages = state[\"messages\"]\n",
    "    documents = state[\"documents\"]\n",
    "    formatted_docs = \"\\n\\n\".join(doc.page_content for doc in documents)\n",
    "    \n",
    "    rag_prompt_formatted = RAG_PROMPT.format(context=formatted_docs, conversation=messages, question=question)\n",
    "    generation = llm.invoke([HumanMessage(content=rag_prompt_formatted)])\n",
    "    return {\"documents\": documents, \"messages\": [HumanMessage(question), generation]}\n",
    "\n",
    "\n",
    "graph_builder = StateGraph(GraphState)\n",
    "graph_builder.add_node(\"retrieve_documents\", retrieve_documents)\n",
    "graph_builder.add_node(\"generate_response\", generate_response)\n",
    "graph_builder.add_edge(START, \"retrieve_documents\")\n",
    "graph_builder.add_edge(\"retrieve_documents\", \"generate_response\")\n",
    "graph_builder.add_edge(\"generate_response\", END)\n",
    "\n",
    "simple_rag_graph = graph_builder.compile()\n",
    "display(Image(simple_rag_graph.get_graph().draw_mermaid_png()))"
   ]
  },
  {
   "cell_type": "code",
   "execution_count": 37,
   "id": "e53c22c1",
   "metadata": {},
   "outputs": [
    {
     "data": {
      "text/plain": [
       "False"
      ]
     },
     "execution_count": 37,
     "metadata": {},
     "output_type": "execute_result"
    }
   ],
   "source": [
    "\n",
    "from dotenv import load_dotenv\n",
    "load_dotenv(dotenv_path=\"../../.env\", override=True)"
   ]
  }
 ],
 "metadata": {
  "kernelspec": {
   "display_name": "MAT496",
   "language": "python",
   "name": "python3"
  },
  "language_info": {
   "codemirror_mode": {
    "name": "ipython",
    "version": 3
   },
   "file_extension": ".py",
   "mimetype": "text/x-python",
   "name": "python",
   "nbconvert_exporter": "python",
   "pygments_lexer": "ipython3",
   "version": "3.13.5"
  }
 },
 "nbformat": 4,
 "nbformat_minor": 5
}
