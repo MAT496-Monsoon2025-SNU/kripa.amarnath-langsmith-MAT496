{
 "cells": [
  {
   "cell_type": "code",
   "execution_count": null,
   "id": "edbb17a7",
   "metadata": {},
   "outputs": [
    {
     "name": "stdout",
     "output_type": "stream",
     "text": [
      "Semantic similarity score (cell 6): {'score': 9, 'key': 'similarity'}\n"
     ]
    }
   ],
   "source": [
    "sample_run = {\n",
    "  \"name\": \"Sample Run\",\n",
    "  \"inputs\": {\n",
    "    \"question\": \"Explain the concept of 'dark matter' in simple terms.\"\n",
    "  },\n",
    "  \"outputs\": {\n",
    "    \"output\": \"Dark matter is a hypothetical form of matter that we can't see or interact with directly, but we infer its existence from its gravitational effects on visible matter.\"\n",
    "  },\n",
    "  \"is_root\": True,\n",
    "  \"status\": \"success\",\n",
    "  \"extra\": {\n",
    "    \"metadata\": {\n",
    "      \"key\": \"value\"\n",
    "    }\n",
    "  }\n",
    "}\n",
    "\n",
    "sample_example = {\n",
    "  \"inputs\": {\n",
    "    \"question\": \"Explain the concept of 'dark matter' in simple terms.\"\n",
    "  },\n",
    "  \"outputs\": {\n",
    "    \"output\": \"Dark matter is invisible stuff in space that we know is there because of its gravity, even though we can't see it or touch it. It makes up a big chunk of the universe.\"\n",
    "  },\n",
    "  \"metadata\": {\n",
    "    \"dataset_split\": [\n",
    "      \"AI generated\",\n",
    "      \"base\"\n",
    "    ]\n",
    "  }\n",
    "}\n",
    "\n",
    "similarity_score = compare_semantic_similarity_v2(sample_run, sample_example)\n",
    "print(f\"Semantic similarity score (cell 6): {similarity_score}\")\n",
    "# Expected output from the Groq model should be high (e.g., 8-10) here, as both responses convey similar meaning."
   ]
  },
  {
   "cell_type": "code",
   "execution_count": null,
   "id": "f40ea241",
   "metadata": {},
   "outputs": [],
   "source": [
    "from langsmith.schemas import Run, Example\n",
    "from app_huggingface import compare_semantic_similarity_groq\n",
    "\n",
    "def compare_semantic_similarity_v2(root_run: Run, example: Example):\n",
    "    input_question = example[\"inputs\"][\"question\"]\n",
    "    reference_response = example[\"outputs\"][\"output\"]\n",
    "    run_response = root_run[\"outputs\"][\"output\"]\n",
    "\n",
    "    similarity_score = compare_semantic_similarity_groq(input_question, reference_response, run_response)\n",
    "    return {\"score\": similarity_score, \"key\": \"similarity\"}\n",
    "# Expected output from the Groq model should be high (e.g., 8-10) here, as both responses convey similar meaning."
   ]
  },
  {
   "cell_type": "code",
   "execution_count": null,
   "id": "11decd67",
   "metadata": {},
   "outputs": [
    {
     "name": "stdout",
     "output_type": "stream",
     "text": [
      "Semantic similarity score (cell 4): {'score': 9, 'key': 'similarity'}\n"
     ]
    }
   ],
   "source": [
    "\n",
    "inputs = {\n",
    "  \"question\": \"What is the primary benefit of quantum computing over classical computing?\"\n",
    "}\n",
    "reference_outputs = {\n",
    "  \"output\": \"Quantum computing excels at solving certain complex problems much faster than classical computers, especially those involving large numbers or simulations.\"\n",
    "}\n",
    "\n",
    "outputs = {\n",
    "  \"output\": \"Classical computers are generally faster for most tasks, but quantum computers can solve specific intractable problems.\"\n",
    "}\n",
    "\n",
    "similarity_score = compare_semantic_similarity(inputs, reference_outputs, outputs)\n",
    "print(f\"Semantic similarity score (cell 4): {similarity_score}\")\n",
    "# Expected output from the Groq model should be high (e.g., 8-10) here, as both responses convey similar meaning."
   ]
  },
  {
   "cell_type": "code",
   "execution_count": 3,
   "id": "61ca6750",
   "metadata": {},
   "outputs": [],
   "source": [
    "from app_huggingface import compare_semantic_similarity_groq\n",
    "\n",
    "def compare_semantic_similarity(inputs: dict, reference_outputs: dict, outputs: dict):\n",
    "    input_question = inputs[\"question\"]\n",
    "    reference_response = reference_outputs[\"output\"]\n",
    "    run_response = outputs[\"output\"]\n",
    "\n",
    "    similarity_score = compare_semantic_similarity_groq(input_question, reference_response, run_response)\n",
    "    return {\"score\": similarity_score, \"key\": \"similarity\"}\n"
   ]
  },
  {
   "cell_type": "code",
   "execution_count": 2,
   "id": "3d594544",
   "metadata": {},
   "outputs": [
    {
     "data": {
      "text/plain": [
       "False"
      ]
     },
     "execution_count": 2,
     "metadata": {},
     "output_type": "execute_result"
    }
   ],
   "source": [
    "from dotenv import load_dotenv\n",
    "load_dotenv(dotenv_path=\"../../.env\", override=True)"
   ]
  },
  {
   "cell_type": "code",
   "execution_count": 1,
   "id": "dd7e5844",
   "metadata": {},
   "outputs": [],
   "source": [
    "from langsmith.schemas import Example, Run\n",
    "\n",
    "def correct_label(inputs: dict, reference_outputs: dict, outputs: dict) -> dict:\n",
    "  score = outputs.get(\"output\") == reference_outputs.get(\"label\")\n",
    "  return {\"score\": int(score), \"key\": \"correct_label\"}"
   ]
  }
 ],
 "metadata": {
  "kernelspec": {
   "display_name": "MAT496",
   "language": "python",
   "name": "python3"
  },
  "language_info": {
   "codemirror_mode": {
    "name": "ipython",
    "version": 3
   },
   "file_extension": ".py",
   "mimetype": "text/x-python",
   "name": "python",
   "nbconvert_exporter": "python",
   "pygments_lexer": "ipython3",
   "version": "3.13.5"
  }
 },
 "nbformat": 4,
 "nbformat_minor": 5
}
