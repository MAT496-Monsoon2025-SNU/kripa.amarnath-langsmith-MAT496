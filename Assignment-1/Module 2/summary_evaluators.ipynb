{
 "cells": [
  {
   "cell_type": "code",
   "execution_count": 7,
   "id": "d0f40a52",
   "metadata": {},
   "outputs": [
    {
     "name": "stdout",
     "output_type": "stream",
     "text": [
      "View the evaluation results for experiment: 'Groq Topic Classifier Experiment-2aa94a84' at:\n",
      "https://smith.langchain.com/o/7078c9e6-ede7-4d80-b45b-119f20137777/datasets/0271295a-4979-4eaa-8f0b-d9a7bd7d772a/compare?selectedSessions=46b97889-24a8-4b54-900f-515e14008152\n",
      "\n",
      "\n"
     ]
    },
    {
     "data": {
      "application/vnd.jupyter.widget-view+json": {
       "model_id": "a88f6b61ffac49b582d6265a9d257173",
       "version_major": 2,
       "version_minor": 0
      },
      "text/plain": [
       "0it [00:00, ?it/s]"
      ]
     },
     "metadata": {},
     "output_type": "display_data"
    },
    {
     "name": "stdout",
     "output_type": "stream",
     "text": [
      "Evaluation Results:\n",
      "<ExperimentResults Groq Topic Classifier Experiment-2aa94a84>\n"
     ]
    }
   ],
   "source": [
    "results = client.evaluate(\n",
    "    groq_topic_classifier,\n",
    "    data=dataset,\n",
    "    summary_evaluators=[accuracy_summary_evaluator], \n",
    "    experiment_prefix=\"Groq Topic Classifier Experiment\"\n",
    ")\n",
    "\n",
    "print(\"Evaluation Results:\")\n",
    "print(results)"
   ]
  },
  {
   "cell_type": "code",
   "execution_count": 5,
   "id": "2d3cdadd",
   "metadata": {},
   "outputs": [],
   "source": [
    "def accuracy_summary_evaluator(outputs: list[dict], reference_outputs: list[dict]) -> dict:\n",
    "    correct_predictions = 0\n",
    "    total_predictions = len(outputs)\n",
    "\n",
    "    for output_dict, reference_output_dict in zip(outputs, reference_outputs):\n",
    "        output = output_dict[\"class\"]\n",
    "        reference_output = reference_output_dict[\"class\"]\n",
    "\n",
    "        if output == reference_output:\n",
    "            correct_predictions += 1\n",
    "\n",
    "    accuracy = correct_predictions / total_predictions if total_predictions > 0 else 0.0\n",
    "    return {\"key\": \"accuracy\", \"score\": accuracy}"
   ]
  },
  {
   "cell_type": "code",
   "execution_count": 4,
   "id": "89e7f41a",
   "metadata": {},
   "outputs": [],
   "source": [
    "from groq import Groq\n",
    "from pydantic import BaseModel, Field\n",
    "\n",
    "groq_client = Groq(api_key=\"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\")\n",
    "\n",
    "class Topic(BaseModel):\n",
    "    topic: str = Field(description=\"\"\"'Technology' if the statement is about technology, 'Politics' if about politics, 'Sports' if about sports, and 'Other' if it doesn't fit these categories.\"\"\")\n",
    "\n",
    "def groq_topic_classifier(inputs: dict) -> dict:\n",
    "    completion = groq_client.chat.completions.create(\n",
    "        model=\"deepseek-r1-distill-llama-70b\", \n",
    "        messages=[\n",
    "            {\n",
    "                \"role\": \"user\",\n",
    "                \"content\": f\"Categorize the following statement into 'Technology', 'Politics', 'Sports', or 'Other': '{inputs['statement']}'\"\n",
    "            }\n",
    "        ],\n",
    "        temperature=0, \n",
    "    )\n",
    "\n",
    "\n",
    "    topic_category = completion.choices[0].message.content.strip().split()[0].replace('.', '')\n",
    "    return {\"class\": topic_category}"
   ]
  },
  {
   "cell_type": "code",
   "execution_count": 3,
   "id": "ebd83103",
   "metadata": {},
   "outputs": [],
   "source": [
    "\n",
    "from langsmith import Client\n",
    "\n",
    "client = Client()\n",
    "\n",
    "dataset = client.clone_public_dataset(\n",
    "    \"https://smith.langchain.com/public/89ef0d44-a252-4011-8bb8-6a114afc1522/d\"\n",
    ")"
   ]
  },
  {
   "cell_type": "code",
   "execution_count": 1,
   "id": "f51d7efb",
   "metadata": {},
   "outputs": [
    {
     "data": {
      "text/plain": [
       "False"
      ]
     },
     "execution_count": 1,
     "metadata": {},
     "output_type": "execute_result"
    }
   ],
   "source": [
    "from dotenv import load_dotenv\n",
    "load_dotenv(dotenv_path=\"../../.env\", override=True)"
   ]
  }
 ],
 "metadata": {
  "kernelspec": {
   "display_name": "MAT496",
   "language": "python",
   "name": "python3"
  },
  "language_info": {
   "codemirror_mode": {
    "name": "ipython",
    "version": 3
   },
   "file_extension": ".py",
   "mimetype": "text/x-python",
   "name": "python",
   "nbconvert_exporter": "python",
   "pygments_lexer": "ipython3",
   "version": "3.13.5"
  }
 },
 "nbformat": 4,
 "nbformat_minor": 5
}
