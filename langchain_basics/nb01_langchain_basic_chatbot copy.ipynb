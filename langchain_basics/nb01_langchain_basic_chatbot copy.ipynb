{
 "cells": [
  {
   "cell_type": "code",
   "execution_count": 18,
   "id": "bf12b803",
   "metadata": {},
   "outputs": [
    {
     "data": {
      "text/plain": [
       "AIMessage(content='<think>\\nOkay, the user has given me a task to translate \"hi!\" from English to Spanish. First, I need to make sure I understand the request correctly. They want the translation of the greeting \"hi!\" into Spanish.\\n\\nI know that \"hi!\" is a common informal greeting in English. In Spanish, the equivalent would be \"¡Hola!\". It\\'s important to keep the same level of formality, so \"¡Hola!\" is the right choice here.\\n\\nI should also consider the punctuation. The original has an exclamation mark, so the translation should include that as well to maintain the enthusiastic tone.\\n\\nIs there any other possible translation? Well, \"hola\" without the exclamation might be too casual, but since the user included an exclamation mark, adding it in Spanish makes sense.\\n\\nI should double-check to ensure that \"¡Hola!\" is the correct and most appropriate translation for \"hi!\" in this context. Yes, it is. \\n\\nSo, the final translation would be \"¡Hola!\".\\n</think>\\n\\n¡Hola!', additional_kwargs={}, response_metadata={'token_usage': {'completion_tokens': 213, 'prompt_tokens': 12, 'total_tokens': 225, 'completion_time': 1.047262219, 'prompt_time': 0.010109477, 'queue_time': 0.042464213, 'total_time': 1.057371696}, 'model_name': 'deepseek-r1-distill-llama-70b', 'system_fingerprint': 'fp_1bbe7845ec', 'service_tier': 'on_demand', 'finish_reason': 'stop', 'logprobs': None}, id='run--4fc02f14-a584-424d-9f65-d7e2082341f6-0', usage_metadata={'input_tokens': 12, 'output_tokens': 213, 'total_tokens': 225})"
      ]
     },
     "execution_count": 18,
     "metadata": {},
     "output_type": "execute_result"
    }
   ],
   "source": [
    "from langchain_core.messages import HumanMessage, SystemMessage\n",
    "\n",
    "messages = [\n",
    "    SystemMessage(\"Translate the following from English into Spanish\"), # try punjabi, or any other Indian language\n",
    "    HumanMessage(\"hi!\"),\n",
    "]\n",
    "\n",
    "model.invoke(messages)"
   ]
  },
  {
   "cell_type": "code",
   "execution_count": 16,
   "id": "7b59b9c5",
   "metadata": {},
   "outputs": [],
   "source": [
    "model2 = init_chat_model(\"llama-3.3-70b-versatile\", model_provider=\"groq\")"
   ]
  },
  {
   "cell_type": "code",
   "execution_count": 17,
   "id": "d9db44ea",
   "metadata": {},
   "outputs": [
    {
     "data": {
      "text/plain": [
       "AIMessage(content='<think>\\n\\n</think>\\n\\nவணக்கம்!', additional_kwargs={}, response_metadata={'token_usage': {'completion_tokens': 17, 'prompt_tokens': 12, 'total_tokens': 29, 'completion_time': 0.093632033, 'prompt_time': 0.010299075, 'queue_time': 0.041414244, 'total_time': 0.103931108}, 'model_name': 'deepseek-r1-distill-llama-70b', 'system_fingerprint': 'fp_1bbe7845ec', 'service_tier': 'on_demand', 'finish_reason': 'stop', 'logprobs': None}, id='run--fec81d50-6236-4609-88be-bd36a0b7a360-0', usage_metadata={'input_tokens': 12, 'output_tokens': 17, 'total_tokens': 29})"
      ]
     },
     "execution_count": 17,
     "metadata": {},
     "output_type": "execute_result"
    }
   ],
   "source": [
    "from langchain_core.messages import HumanMessage, SystemMessage\n",
    "\n",
    "messages = [\n",
    "    SystemMessage(\"Translate the following from English into Tamil\"), # try punjabi, or any other Indian language\n",
    "    HumanMessage(\"hi!\"),\n",
    "]\n",
    "\n",
    "model.invoke(messages)"
   ]
  },
  {
   "cell_type": "code",
   "execution_count": 15,
   "id": "65b28915",
   "metadata": {},
   "outputs": [],
   "source": [
    "from langchain.chat_models import init_chat_model\n",
    "\n",
    "model1 = init_chat_model(\"meta-llama/llama-4-maverick-17b-128e-instruct\", model_provider=\"groq\")"
   ]
  },
  {
   "cell_type": "code",
   "execution_count": 14,
   "id": "103b7fbb",
   "metadata": {},
   "outputs": [
    {
     "data": {
      "text/plain": [
       "<generator object BaseChatModel.stream at 0x00000174040C7640>"
      ]
     },
     "execution_count": 14,
     "metadata": {},
     "output_type": "execute_result"
    }
   ],
   "source": [
    "model.stream(\"hello\")"
   ]
  },
  {
   "cell_type": "code",
   "execution_count": 13,
   "id": "35a44bce",
   "metadata": {},
   "outputs": [
    {
     "name": "stdout",
     "output_type": "stream",
     "text": [
      "content='' additional_kwargs={} response_metadata={} id='run--bca0f3ac-2980-440f-9bd0-03b8d549ac51'\n",
      "content='<think>' additional_kwargs={} response_metadata={} id='run--bca0f3ac-2980-440f-9bd0-03b8d549ac51'\n",
      "content='\\n\\n' additional_kwargs={} response_metadata={} id='run--bca0f3ac-2980-440f-9bd0-03b8d549ac51'\n",
      "content='</think>' additional_kwargs={} response_metadata={} id='run--bca0f3ac-2980-440f-9bd0-03b8d549ac51'\n",
      "content='\\n\\n' additional_kwargs={} response_metadata={} id='run--bca0f3ac-2980-440f-9bd0-03b8d549ac51'\n",
      "content='Hello' additional_kwargs={} response_metadata={} id='run--bca0f3ac-2980-440f-9bd0-03b8d549ac51'\n",
      "content='!' additional_kwargs={} response_metadata={} id='run--bca0f3ac-2980-440f-9bd0-03b8d549ac51'\n",
      "content=' How' additional_kwargs={} response_metadata={} id='run--bca0f3ac-2980-440f-9bd0-03b8d549ac51'\n",
      "content=' can' additional_kwargs={} response_metadata={} id='run--bca0f3ac-2980-440f-9bd0-03b8d549ac51'\n",
      "content=' I' additional_kwargs={} response_metadata={} id='run--bca0f3ac-2980-440f-9bd0-03b8d549ac51'\n",
      "content=' assist' additional_kwargs={} response_metadata={} id='run--bca0f3ac-2980-440f-9bd0-03b8d549ac51'\n",
      "content=' you' additional_kwargs={} response_metadata={} id='run--bca0f3ac-2980-440f-9bd0-03b8d549ac51'\n",
      "content=' today' additional_kwargs={} response_metadata={} id='run--bca0f3ac-2980-440f-9bd0-03b8d549ac51'\n",
      "content='?' additional_kwargs={} response_metadata={} id='run--bca0f3ac-2980-440f-9bd0-03b8d549ac51'\n",
      "content=' 😊' additional_kwargs={} response_metadata={} id='run--bca0f3ac-2980-440f-9bd0-03b8d549ac51'\n",
      "content='' additional_kwargs={} response_metadata={'finish_reason': 'stop', 'model_name': 'deepseek-r1-distill-llama-70b', 'system_fingerprint': 'fp_1bbe7845ec', 'service_tier': 'on_demand'} id='run--bca0f3ac-2980-440f-9bd0-03b8d549ac51' usage_metadata={'input_tokens': 4, 'output_tokens': 16, 'total_tokens': 20}\n"
     ]
    }
   ],
   "source": [
    "import time\n",
    "\n",
    "for token in model.stream(\"hello\"):\n",
    "    time.sleep(0.1)\n",
    "    #print(token.content, end=\"|\")\n",
    "    print(token)"
   ]
  },
  {
   "cell_type": "code",
   "execution_count": 12,
   "id": "31ffedde",
   "metadata": {},
   "outputs": [
    {
     "name": "stdout",
     "output_type": "stream",
     "text": [
      "<think>\n",
      "Okay, I need to find the maximum of n given numbers using Python. Let me think about how to approach this.\n",
      "\n",
      "First, I'll start by asking the user for input. They'll need to enter the numbers, probably separated by spaces. So I'll prompt them with a message like \"Enter numbers separated by space: \".\n",
      "\n",
      "Next, I'll read the input using the input() function. Once I have the input string, I'll split it into individual number strings. I can do this with the split() method, which will give me a list of strings.\n",
      "\n",
      "Now, I need to convert these string elements into numerical values. Since the user could enter integers or floats, I'll use a list comprehension to loop through each string and convert them to floats. That way, it handles both cases.\n",
      "\n",
      "After converting, I have a list of numbers. To find the maximum, I can use the built-in max() function in Python. It's straightforward and efficient for this task.\n",
      "\n",
      "Then, I'll print out the result. I should include a message like \"Maximum number is: \" followed by the max value.\n",
      "\n",
      "I should also consider if there are any edge cases. For example, if the user enters no numbers, the max() function would throw an error. But since the task assumes the user will provide n numbers, maybe I don't need to handle that here unless specified.\n",
      "\n",
      "Putting it all together, the steps are: get user input, split into strings, convert to floats, find max, and print. The code should be simple and concise, using Python's built-in functions for efficiency.\n",
      "</think>\n",
      "\n",
      "**Task: Find max of given n numbers**\n",
      "\n",
      "You can find the maximum number from a list of numbers using Python's built-in `max()` function. Here's how you can do it:\n",
      "\n",
      "```python\n",
      "# Get user input for numbers\n",
      "numbers = input(\"Enter numbers separated by space: \")\n",
      "\n",
      "# Split the input string into a list of strings\n",
      "num_list = numbers.split()\n",
      "\n",
      "# Convert the string elements to float/integer\n",
      "num_list = [float(num) for num in num_list]\n",
      "\n",
      "# Find and print the maximum number\n",
      "print(\"Maximum number is:\", max(num_list))\n",
      "```\n",
      "\n",
      "**Explanation:**\n",
      "\n",
      "1. **Get User Input:** The `input()` function is used to get the numbers from the user. The user is prompted to enter numbers separated by spaces.\n",
      "\n",
      "2. **Split Input:** The `split()` method splits the input string into a list of substrings based on spaces.\n",
      "\n",
      "3. **Convert to Numbers:** A list comprehension is used to convert each substring into a floating-point number. This allows the code to handle both integers and floating-point numbers.\n",
      "\n",
      "4. **Find Maximum:** The built-in `max()` function finds the maximum value in the list of numbers.\n",
      "\n",
      "5. **Output Result:** The maximum number is printed to the console.\n",
      "\n",
      "**Example Usage:**\n",
      "\n",
      "If you enter:\n",
      "```\n",
      "5 3 8 2 9\n",
      "```\n",
      "\n",
      "The output will be:\n",
      "```\n",
      "Maximum number is: 9.0\n",
      "```\n",
      "\n",
      "This code efficiently finds the maximum number from the user-provided input using clear and concise Python code.\n"
     ]
    }
   ],
   "source": [
    "print(response.content)"
   ]
  },
  {
   "cell_type": "code",
   "execution_count": 11,
   "id": "61c614c1",
   "metadata": {},
   "outputs": [],
   "source": [
    "messages = [\n",
    "    SystemMessage(\"Generate python code for given tasks\"),\n",
    "    HumanMessage(\"Find max of given n numbers\"),\n",
    "]\n",
    "\n",
    "response = model.invoke(messages)\n"
   ]
  },
  {
   "cell_type": "code",
   "execution_count": 9,
   "id": "9784d6fb",
   "metadata": {},
   "outputs": [
    {
     "data": {
      "text/plain": [
       "AIMessage(content='<think>\\n\\n</think>\\n\\nহাই!', additional_kwargs={}, response_metadata={'token_usage': {'completion_tokens': 10, 'prompt_tokens': 13, 'total_tokens': 23, 'completion_time': 0.053476304, 'prompt_time': 0.010115745, 'queue_time': 0.042028095, 'total_time': 0.063592049}, 'model_name': 'deepseek-r1-distill-llama-70b', 'system_fingerprint': 'fp_1bbe7845ec', 'service_tier': 'on_demand', 'finish_reason': 'stop', 'logprobs': None}, id='run--f0c02ed3-3ba5-4318-9d82-e0a2d99306cb-0', usage_metadata={'input_tokens': 13, 'output_tokens': 10, 'total_tokens': 23})"
      ]
     },
     "execution_count": 9,
     "metadata": {},
     "output_type": "execute_result"
    }
   ],
   "source": [
    "from langchain_core.messages import HumanMessage, SystemMessage\n",
    "\n",
    "messages = [\n",
    "    SystemMessage(\"Translate the following from English into Bengali\"), # try punjabi, or any other Indian language\n",
    "    HumanMessage(\"hi!\"),\n",
    "]\n",
    "\n",
    "model.invoke(messages)"
   ]
  },
  {
   "cell_type": "code",
   "execution_count": 8,
   "id": "2f422708",
   "metadata": {},
   "outputs": [
    {
     "name": "stdout",
     "output_type": "stream",
     "text": [
      "<think>\n",
      "Okay, so I need to write a Python function that multiplies two matrices. Hmm, I remember that matrix multiplication has certain rules. Let me think about the steps involved.\n",
      "\n",
      "First, I should check if the matrices can be multiplied. I recall that the number of columns in the first matrix must match the number of rows in the second matrix. Otherwise, multiplication isn't possible. So, if matrix A is of size m x n, matrix B must be n x p. Then, the resulting matrix will be m x p. If the dimensions don't match, I should raise an exception.\n",
      "\n",
      "Alright, so the function will take two arguments, A and B, which are the matrices. I need to get their dimensions. For matrix A, the number of rows is len(A), and the number of columns is len(A[0]), assuming all rows have the same length. Similarly for matrix B.\n",
      "\n",
      "Wait, I should also make sure that both A and B are valid matrices. Like, each row in A should have the same number of elements, and same for B. But maybe that's beyond the scope for now. The main point is to check if the columns of A match the rows of B.\n",
      "\n",
      "So, the first step in the function is to get the dimensions. Let me jot that down:\n",
      "\n",
      "rows_A = len(A)\n",
      "cols_A = len(A[0]) if rows_A > 0 else 0\n",
      "\n",
      "Similarly for B:\n",
      "rows_B = len(B)\n",
      "cols_B = len(B[0]) if rows_B > 0 else 0\n",
      "\n",
      "Then, check if cols_A == rows_B. If not, raise a ValueError or some exception.\n",
      "\n",
      "Once that's cleared, I can proceed to create the resulting matrix. The result will have rows_A rows and cols_B columns. Each element in the result is the dot product of the corresponding row from A and column from B.\n",
      "\n",
      "So, how to create the result matrix? I'll initialize it with zeros. For each i in range(rows_A), and each j in range(cols_B), compute the sum of A[i][k] * B[k][j] for k in range(cols_A).\n",
      "\n",
      "Wait, but in Python, I can use nested loops for that. Let me structure it:\n",
      "\n",
      "result = [[0 for _ in range(cols_B)] for _ in range(rows_A)]\n",
      "\n",
      "Then, for i in range(rows_A):\n",
      "    for j in range(cols_B):\n",
      "        for k in range(cols_A):\n",
      "            result[i][j] += A[i][k] * B[k][j]\n",
      "\n",
      "That makes sense. So putting it all together.\n",
      "\n",
      "But I should also handle edge cases. What if one of the matrices is empty? Or if they have inconsistent row lengths? Hmm, perhaps the function should first validate that the input matrices are valid. But maybe that's beyond the current scope, as the problem statement says the code should throw an exception if the dimensions are incompatible, not necessarily if the matrices are malformed.\n",
      "\n",
      "So, I'll proceed under the assumption that the inputs are valid matrices.\n",
      "\n",
      "Let me think about the exception. If cols_A != rows_B, raise a ValueError with a message indicating the dimensions.\n",
      "\n",
      "Putting it all together, the function will:\n",
      "\n",
      "1. Check the dimensions of A and B.\n",
      "2. If incompatible, raise ValueError.\n",
      "3. Otherwise, create the result matrix.\n",
      "4. Fill the result using nested loops.\n",
      "5. Return the result.\n",
      "\n",
      "Wait, what about empty matrices? Like if A is 0x0 or something. Probably, in such cases, the multiplication isn't defined, so maybe the function should handle that, but perhaps it's beyond the current problem.\n",
      "\n",
      "Testing the function with some examples would help. For instance:\n",
      "\n",
      "A = [[1,2],[3,4]]\n",
      "B = [[5,6],[7,8]]\n",
      "Result should be [[19,22],[43,50]]\n",
      "\n",
      "Another test case where dimensions are incompatible, like A is 2x3 and B is 2x3. Then, since A has 3 columns and B has 2 rows, they can't multiply A*B. But B*A would be possible if A is 3x something and B is compatible.\n",
      "\n",
      "Wait, in the function, A is the first matrix, B is the second. So A must have cols equal to B's rows.\n",
      "\n",
      "So in code:\n",
      "\n",
      "if cols_A != rows_B:\n",
      "    raise ValueError(\"Matrices are not compatible for multiplication\")\n",
      "\n",
      "I think that's correct.\n",
      "\n",
      "Now, writing the code step by step.\n",
      "\n",
      "First, get the dimensions of A and B.\n",
      "\n",
      "rows_A = len(A)\n",
      "if rows_A == 0:\n",
      "    raise ValueError(\"Empty matrix A\")\n",
      "cols_A = len(A[0])\n",
      "if any(len(row) != cols_A for row in A):\n",
      "    raise ValueError(\"Matrix A has inconsistent row lengths\")\n",
      "\n",
      "Similarly for B. Wait, maybe the function should also check that the input matrices are well-formed, i.e., each row has the same number of elements. Otherwise, even if the dimensions seem compatible, the multiplication might fail.\n",
      "\n",
      "So perhaps adding these checks:\n",
      "\n",
      "if any(len(row) != cols_A for row in A):\n",
      "    raise ValueError(\"Matrix A is not rectangular\")\n",
      "\n",
      "Same for B. But the problem statement might not require this, as it only mentions the dimensions are incompatible. But it's good practice.\n",
      "\n",
      "But since the problem says the code should throw an exception if dimensions are not compatible, perhaps the other checks are optional. But to make the function robust, including them would be better.\n",
      "\n",
      "So, in the code, after getting rows_A and cols_A, check if all rows in A have length cols_A. Similarly for B.\n",
      "\n",
      "But perhaps for now, I'll include those checks.\n",
      "\n",
      "So, code outline:\n",
      "\n",
      "def multiply_matrices(A, B):\n",
      "    # Get dimensions of A\n",
      "    rows_A = len(A)\n",
      "    if rows_A == 0:\n",
      "        raise ValueError(\"Matrix A is empty\")\n",
      "    cols_A = len(A[0])\n",
      "    if any(len(row) != cols_A for row in A):\n",
      "        raise ValueError(\"Matrix A is not rectangular\")\n",
      "    \n",
      "    # Get dimensions of B\n",
      "    rows_B = len(B)\n",
      "    if rows_B == 0:\n",
      "        raise ValueError(\"Matrix B is empty\")\n",
      "    cols_B = len(B[0])\n",
      "    if any(len(row) != cols_B for row in B):\n",
      "        raise ValueError(\"Matrix B is not rectangular\")\n",
      "    \n",
      "    # Check if multiplication is possible\n",
      "    if cols_A != rows_B:\n",
      "        raise ValueError(f\"Matrices cannot be multiplied: A has {cols_A} columns, B has {rows_B} rows\")\n",
      "    \n",
      "    # Create result matrix\n",
      "    result = [[0 for _ in range(cols_B)] for _ in range(rows_A)]\n",
      "    \n",
      "    # Perform multiplication\n",
      "    for i in range(rows_A):\n",
      "        for j in range(cols_B):\n",
      "            for k in range(cols_A):\n",
      "                result[i][j] += A[i][k] * B[k][j]\n",
      "    \n",
      "    return result\n",
      "\n",
      "Wait, but in the error message, it's A has cols_A columns, B has rows_B rows. So if they are not equal, multiplication is not possible.\n",
      "\n",
      "Yes, that makes sense.\n",
      "\n",
      "Testing the code with the example I thought earlier:\n",
      "\n",
      "A = [[1,2],[3,4]]\n",
      "B = [[5,6],[7,8]]\n",
      "Result should be [[19,22],[43,50]]\n",
      "\n",
      "Let me compute:\n",
      "\n",
      "First element: 1*5 + 2*7 = 5 +14=19\n",
      "Second element:1*6 +2*8=6+16=22\n",
      "Third row first element:3*5 +4*7=15+28=43\n",
      "Third row second:3*6 +4*8=18+32=50\n",
      "\n",
      "Yes, correct.\n",
      "\n",
      "Another test: A is 2x3, B is 3x2. Then, the result is 2x2. Let's see.\n",
      "\n",
      "A = [[1,2,3],[4,5,6]]\n",
      "B = [[7,8],[9,10],[11,12]]\n",
      "Result should be:\n",
      "\n",
      "First row: 1*7 +2*9 +3*11 =7 +18 +33=58; 1*8 +2*10 +3*12=8+20+36=64\n",
      "Second row:4*7 +5*9 +6*11=28 +45 +66=139; 4*8 +5*10 +6*12=32+50+72=154\n",
      "\n",
      "So the result is [[58,64],[139,154]]\n",
      "\n",
      "Testing this with the code should produce that.\n",
      "\n",
      "Now, what if the matrices are incompatible? For example, A is 2x3, B is 2x2. Then cols_A is 3, rows_B is 2. So 3 !=2, so it raises an error.\n",
      "\n",
      "Yes, the code should handle that.\n",
      "\n",
      "I think this covers the necessary parts. So the code should be as written above.\n",
      "</think>\n",
      "\n",
      "To solve this problem, we need to write a function that multiplies two matrices of arbitrary but compatible orders. The function should also throw an exception if the matrix dimensions are not compatible for multiplication.\n",
      "\n",
      "### Approach\n",
      "1. **Matrix Dimensions Check**: First, we need to check the dimensions of both matrices to ensure they can be multiplied. Matrix multiplication is only possible if the number of columns in the first matrix (A) is equal to the number of rows in the second matrix (B). If this condition is not met, the function should raise an exception.\n",
      "\n",
      "2. **Result Matrix Initialization**: If the matrices are compatible, we initialize a result matrix with zeros. The dimensions of the result matrix will be the number of rows of the first matrix (A) and the number of columns of the second matrix (B).\n",
      "\n",
      "3. **Matrix Multiplication**: Using nested loops, we compute each element of the result matrix as the dot product of the corresponding row from the first matrix (A) and the corresponding column from the second matrix (B).\n",
      "\n",
      "4. **Edge Cases Handling**: The function also handles edge cases such as empty matrices and ensures that both input matrices are well-formed (i.e., each row has the same number of elements).\n",
      "\n",
      "### Solution Code\n",
      "```python\n",
      "def multiply_matrices(A, B):\n",
      "    # Check if A is empty\n",
      "    if not A:\n",
      "        raise ValueError(\"Matrix A is empty\")\n",
      "    rows_A = len(A)\n",
      "    cols_A = len(A[0])\n",
      "    # Check if all rows in A have the same length\n",
      "    for row in A:\n",
      "        if len(row) != cols_A:\n",
      "            raise ValueError(\"Matrix A is not rectangular\")\n",
      "    \n",
      "    # Check if B is empty\n",
      "    if not B:\n",
      "        raise ValueError(\"Matrix B is empty\")\n",
      "    rows_B = len(B)\n",
      "    cols_B = len(B[0])\n",
      "    # Check if all rows in B have the same length\n",
      "    for row in B:\n",
      "        if len(row) != cols_B:\n",
      "            raise ValueError(\"Matrix B is not rectangular\")\n",
      "    \n",
      "    # Check if multiplication is possible\n",
      "    if cols_A != rows_B:\n",
      "        raise ValueError(f\"Matrices cannot be multiplied: A has {cols_A} columns, B has {rows_B} rows\")\n",
      "    \n",
      "    # Initialize the result matrix with zeros\n",
      "    result = [[0 for _ in range(cols_B)] for _ in range(rows_A)]\n",
      "    \n",
      "    # Perform matrix multiplication\n",
      "    for i in range(rows_A):\n",
      "        for j in range(cols_B):\n",
      "            for k in range(cols_A):\n",
      "                result[i][j] += A[i][k] * B[k][j]\n",
      "    \n",
      "    return result\n",
      "```\n",
      "\n",
      "### Explanation\n",
      "1. **Matrix Dimensions Check**: The function first retrieves the dimensions of both matrices. It checks if the number of columns in the first matrix (A) matches the number of rows in the second matrix (B). If not, it raises a ValueError.\n",
      "\n",
      "2. **Result Matrix Initialization**: The result matrix is initialized with zeros, with its dimensions based on the rows of A and columns of B.\n",
      "\n",
      "3. **Matrix Multiplication**: Using three nested loops, the function computes each element of the result matrix by taking the dot product of the corresponding row from A and column from B.\n",
      "\n",
      "4. **Edge Cases Handling**: The function includes checks to ensure that both input matrices are non-empty and well-formed, raising appropriate exceptions if any issues are found.\n",
      "\n",
      "This approach ensures that the function correctly multiplies two matrices when possible and handles all edge cases by raising informative exceptions.\n"
     ]
    }
   ],
   "source": [
    "print(response.content)"
   ]
  },
  {
   "cell_type": "code",
   "execution_count": 7,
   "id": "93081738",
   "metadata": {},
   "outputs": [],
   "source": [
    "response = model.invoke(\"\"\" Write a python code which can multiply two matrix of arbitrary but compatible order. The code should throw exception if the matrix dimentsions are not compatible for multiplication             \n",
    "             \"\"\")"
   ]
  },
  {
   "cell_type": "code",
   "execution_count": 6,
   "id": "46d6cbfb",
   "metadata": {},
   "outputs": [
    {
     "data": {
      "text/plain": [
       "AIMessage(content=\"<think>\\n\\n</think>\\n\\nHello! I'm just a virtual assistant, so I don't have feelings, but I'm here and ready to help you with whatever you need. How can I assist you today? 😊\", additional_kwargs={}, response_metadata={'token_usage': {'completion_tokens': 44, 'prompt_tokens': 7, 'total_tokens': 51, 'completion_time': 0.158642495, 'prompt_time': 0.009610451, 'queue_time': 0.041602859, 'total_time': 0.168252946}, 'model_name': 'deepseek-r1-distill-llama-70b', 'system_fingerprint': 'fp_1bbe7845ec', 'service_tier': 'on_demand', 'finish_reason': 'stop', 'logprobs': None}, id='run--d41be875-cfbc-40c3-8a25-15aee62bef0c-0', usage_metadata={'input_tokens': 7, 'output_tokens': 44, 'total_tokens': 51})"
      ]
     },
     "execution_count": 6,
     "metadata": {},
     "output_type": "execute_result"
    }
   ],
   "source": [
    "model.invoke(\"How are you?\")"
   ]
  },
  {
   "cell_type": "code",
   "execution_count": 5,
   "id": "edd49285",
   "metadata": {},
   "outputs": [
    {
     "data": {
      "text/plain": [
       "AIMessage(content='<think>\\n\\n</think>\\n\\nHello! How can I assist you today?', additional_kwargs={}, response_metadata={'token_usage': {'completion_tokens': 14, 'prompt_tokens': 6, 'total_tokens': 20, 'completion_time': 0.055548283, 'prompt_time': 0.009827999, 'queue_time': 0.041838981, 'total_time': 0.065376282}, 'model_name': 'deepseek-r1-distill-llama-70b', 'system_fingerprint': 'fp_1bbe7845ec', 'service_tier': 'on_demand', 'finish_reason': 'stop', 'logprobs': None}, id='run--79abdf8e-bcaf-49bc-bb09-53336ee3b7ac-0', usage_metadata={'input_tokens': 6, 'output_tokens': 14, 'total_tokens': 20})"
      ]
     },
     "execution_count": 5,
     "metadata": {},
     "output_type": "execute_result"
    }
   ],
   "source": [
    "model.invoke(\"Whats up?\")"
   ]
  },
  {
   "cell_type": "code",
   "execution_count": 4,
   "id": "129ba3c2",
   "metadata": {},
   "outputs": [],
   "source": [
    "from langchain.chat_models import init_chat_model\n",
    "\n",
    "model = init_chat_model(\"deepseek-r1-distill-llama-70b\", model_provider=\"groq\")"
   ]
  },
  {
   "cell_type": "code",
   "execution_count": 3,
   "id": "0654b4d2",
   "metadata": {},
   "outputs": [
    {
     "data": {
      "text/plain": [
       "True"
      ]
     },
     "execution_count": 3,
     "metadata": {},
     "output_type": "execute_result"
    }
   ],
   "source": [
    "from dotenv import load_dotenv\n",
    "load_dotenv()"
   ]
  },
  {
   "cell_type": "code",
   "execution_count": 2,
   "id": "b65a574b",
   "metadata": {},
   "outputs": [],
   "source": [
    "#!pip install -qU \"langchain[groq]\""
   ]
  }
 ],
 "metadata": {
  "kernelspec": {
   "display_name": "MAT496",
   "language": "python",
   "name": "python3"
  },
  "language_info": {
   "codemirror_mode": {
    "name": "ipython",
    "version": 3
   },
   "file_extension": ".py",
   "mimetype": "text/x-python",
   "name": "python",
   "nbconvert_exporter": "python",
   "pygments_lexer": "ipython3",
   "version": "3.13.5"
  }
 },
 "nbformat": 4,
 "nbformat_minor": 5
}
