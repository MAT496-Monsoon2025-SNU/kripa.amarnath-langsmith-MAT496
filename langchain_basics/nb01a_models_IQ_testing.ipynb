{
 "cells": [
  {
   "cell_type": "code",
   "execution_count": 12,
   "id": "769e69d0",
   "metadata": {},
   "outputs": [
    {
     "name": "stdout",
     "output_type": "stream",
     "text": [
      "To solve this, let's break down the snail's progress per day. The snail effectively climbs 1 foot per day (3 feet up during the day, then slips back 2 feet at night).\n",
      "\n",
      "However, on the final day of climbing, the snail won't slip back at night because it will have reached the top of the well. \n",
      "\n",
      "So, if the well is 40 feet deep and the snail climbs 3 feet each day but slips back 2 feet at night (a net gain of 1 foot per day), we calculate the number of days it takes for the snail to climb to within 3 feet of the top. This is because on the day it reaches or surpasses the top, it won't slip back.\n",
      "\n",
      "To reach 37 feet (which is 3 feet below the top), at a rate of 1 foot per day, it would take 37 days. \n",
      "\n",
      "On the 38th day, when the snail climbs its 3 feet, it will reach 40 feet and thus be at the top of the well. It won't slip back that night because it's already at the top.\n",
      "\n",
      "Therefore, it will take the snail 38 days to reach the top of the well.\n"
     ]
    }
   ],
   "source": [
    "\n",
    "from langchain.chat_models import init_chat_model\n",
    "\n",
    "model = init_chat_model(\"llama-3.3-70b-versatile\", model_provider=\"groq\")\n",
    "\n",
    "response = model.invoke(\"A snail is at the bottom of a 40-foot well. Each day, it climbs up 3 feet, but at night, it slips back 2 feet. How many days will it take for the snail to reach the top of the well?\")\n",
    "\n",
    "print(response.content)"
   ]
  },
  {
   "cell_type": "code",
   "execution_count": 11,
   "id": "75449c57",
   "metadata": {},
   "outputs": [
    {
     "name": "stdout",
     "output_type": "stream",
     "text": [
      "<think>\n",
      "Okay, so I need to figure out how to solve this question: \"A bat and a ball together cost $1.10. The bat costs $1.00 more than the ball. How much does the ball cost?\" Hmm, let me think about this step by step.\n",
      "\n",
      "First, let me break down the information given. The bat and the ball together cost $1.10. That means if I add the cost of the bat and the cost of the ball, it equals $1.10. So, I can write that as an equation: Bat + Ball = $1.10.\n",
      "\n",
      "Next, the question says the bat costs $1.00 more than the ball. So, if I know the cost of the ball, I can find the cost of the bat by adding $1.00 to it. Let me represent the cost of the ball with a variable to make it easier. Let's say the ball costs 'x' dollars. Then, the bat would cost 'x + $1.00' because it's $1.00 more than the ball.\n",
      "\n",
      "Now, I can substitute these expressions back into the first equation. So, Bat = x + $1.00 and Ball = x. Plugging these into the total cost equation: (x + $1.00) + x = $1.10.\n",
      "\n",
      "Let me simplify that equation. Combining like terms, I have x + x + $1.00 = $1.10. That simplifies to 2x + $1.00 = $1.10. Now, I need to solve for x, which is the cost of the ball.\n",
      "\n",
      "Subtracting $1.00 from both sides of the equation to isolate the terms with x: 2x = $1.10 - $1.00. That gives me 2x = $0.10. Now, I need to find the value of x, so I'll divide both sides by 2: x = $0.10 / 2.\n",
      "\n",
      "Calculating that, x equals $0.05. So, the ball costs $0.05, which is 5 cents. Let me double-check to make sure this makes sense. If the ball is $0.05, then the bat, which is $1.00 more, would be $0.05 + $1.00 = $1.05. Adding them together, $1.05 + $0.05 equals $1.10, which matches the total cost given. That seems correct.\n",
      "\n",
      "Wait, but sometimes in these problems, people might get confused and think the ball is 10 cents because they might subtract $1.00 from $1.10 and think that's the ball's cost, but that's not considering that the bat is $1.00 more than the ball, not just $1.00. So, the correct answer is 5 cents for the ball.\n",
      "</think>\n",
      "\n",
      "The ball costs $0.05, or 5 cents.\n",
      "\n",
      "**Step-by-Step Explanation:**\n",
      "\n",
      "1. Let the cost of the ball be \\( x \\) dollars.\n",
      "2. The bat costs \\( x + 1.00 \\) dollars.\n",
      "3. The total cost is \\( x + (x + 1.00) = 1.10 \\).\n",
      "4. Simplifying: \\( 2x + 1.00 = 1.10 \\).\n",
      "5. Subtract 1.00 from both sides: \\( 2x = 0.10 \\).\n",
      "6. Divide by 2: \\( x = 0.05 \\).\n",
      "\n",
      "Thus, the ball costs $0.05.\n"
     ]
    }
   ],
   "source": [
    "print(response.content)"
   ]
  },
  {
   "cell_type": "code",
   "execution_count": 10,
   "id": "7477d117",
   "metadata": {},
   "outputs": [
    {
     "data": {
      "text/plain": [
       "AIMessage(content='<think>\\nOkay, so I need to figure out how to solve this question: \"A bat and a ball together cost $1.10. The bat costs $1.00 more than the ball. How much does the ball cost?\" Hmm, let me think about this step by step.\\n\\nFirst, let me break down the information given. The bat and the ball together cost $1.10. That means if I add the cost of the bat and the cost of the ball, it equals $1.10. So, I can write that as an equation: Bat + Ball = $1.10.\\n\\nNext, the question says the bat costs $1.00 more than the ball. So, if I know the cost of the ball, I can find the cost of the bat by adding $1.00 to it. Let me represent the cost of the ball with a variable to make it easier. Let\\'s say the ball costs \\'x\\' dollars. Then, the bat would cost \\'x + $1.00\\' because it\\'s $1.00 more than the ball.\\n\\nNow, I can substitute these expressions back into the first equation. So, Bat = x + $1.00 and Ball = x. Plugging these into the total cost equation: (x + $1.00) + x = $1.10.\\n\\nLet me simplify that equation. Combining like terms, I have x + x + $1.00 = $1.10. That simplifies to 2x + $1.00 = $1.10. Now, I need to solve for x, which is the cost of the ball.\\n\\nSubtracting $1.00 from both sides of the equation to isolate the terms with x: 2x = $1.10 - $1.00. That gives me 2x = $0.10. Now, I need to find the value of x, so I\\'ll divide both sides by 2: x = $0.10 / 2.\\n\\nCalculating that, x equals $0.05. So, the ball costs $0.05, which is 5 cents. Let me double-check to make sure this makes sense. If the ball is $0.05, then the bat, which is $1.00 more, would be $0.05 + $1.00 = $1.05. Adding them together, $1.05 + $0.05 equals $1.10, which matches the total cost given. That seems correct.\\n\\nWait, but sometimes in these problems, people might get confused and think the ball is 10 cents because they might subtract $1.00 from $1.10 and think that\\'s the ball\\'s cost, but that\\'s not considering that the bat is $1.00 more than the ball, not just $1.00. So, the correct answer is 5 cents for the ball.\\n</think>\\n\\nThe ball costs $0.05, or 5 cents.\\n\\n**Step-by-Step Explanation:**\\n\\n1. Let the cost of the ball be \\\\( x \\\\) dollars.\\n2. The bat costs \\\\( x + 1.00 \\\\) dollars.\\n3. The total cost is \\\\( x + (x + 1.00) = 1.10 \\\\).\\n4. Simplifying: \\\\( 2x + 1.00 = 1.10 \\\\).\\n5. Subtract 1.00 from both sides: \\\\( 2x = 0.10 \\\\).\\n6. Divide by 2: \\\\( x = 0.05 \\\\).\\n\\nThus, the ball costs $0.05.', additional_kwargs={}, response_metadata={'token_usage': {'completion_tokens': 748, 'prompt_tokens': 18, 'total_tokens': 766, 'completion_time': 2.348691665, 'prompt_time': 0.010999518, 'queue_time': 0.093411562, 'total_time': 2.359691183}, 'model_name': 'deepseek-r1-distill-llama-70b', 'system_fingerprint': 'fp_1bbe7845ec', 'service_tier': 'on_demand', 'finish_reason': 'stop', 'logprobs': None}, id='run--3e586e23-7086-4f06-aaf1-d9cbb45345e5-0', usage_metadata={'input_tokens': 18, 'output_tokens': 748, 'total_tokens': 766})"
      ]
     },
     "execution_count": 10,
     "metadata": {},
     "output_type": "execute_result"
    }
   ],
   "source": [
    "response"
   ]
  },
  {
   "cell_type": "code",
   "execution_count": 9,
   "id": "eb25114c",
   "metadata": {},
   "outputs": [],
   "source": [
    "response = model.invoke(\"Suggest a question to test someone's IQ. Also give the answer.\")"
   ]
  },
  {
   "cell_type": "code",
   "execution_count": 8,
   "id": "40956ed4",
   "metadata": {},
   "outputs": [],
   "source": [
    "from langchain.chat_models import init_chat_model\n",
    "\n",
    "model = init_chat_model(\"deepseek-r1-distill-llama-70b\", model_provider=\"groq\")"
   ]
  },
  {
   "cell_type": "code",
   "execution_count": 1,
   "id": "d93b2893",
   "metadata": {},
   "outputs": [
    {
     "data": {
      "text/plain": [
       "True"
      ]
     },
     "execution_count": 1,
     "metadata": {},
     "output_type": "execute_result"
    }
   ],
   "source": [
    "from dotenv import load_dotenv\n",
    "load_dotenv()"
   ]
  }
 ],
 "metadata": {
  "kernelspec": {
   "display_name": "MAT496",
   "language": "python",
   "name": "python3"
  },
  "language_info": {
   "codemirror_mode": {
    "name": "ipython",
    "version": 3
   },
   "file_extension": ".py",
   "mimetype": "text/x-python",
   "name": "python",
   "nbconvert_exporter": "python",
   "pygments_lexer": "ipython3",
   "version": "3.13.5"
  }
 },
 "nbformat": 4,
 "nbformat_minor": 5
}
