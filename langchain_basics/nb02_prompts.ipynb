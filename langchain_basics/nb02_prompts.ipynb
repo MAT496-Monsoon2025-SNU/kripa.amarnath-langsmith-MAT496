{
 "cells": [
  {
   "cell_type": "code",
   "execution_count": 7,
   "id": "0d026399",
   "metadata": {},
   "outputs": [
    {
     "name": "stdout",
     "output_type": "stream",
     "text": [
      "The translation of the text \"Where are you?\" in Tamil is:\n",
      "\n",
      "\n",
      "நீங்கள் எங்கே இருக்கிறீர்கள்? (Nīṅkaḷ eṅkē irukkiṟīrkaḷ?)\n",
      "\n",
      "or in a more informal tone:\n",
      "\n",
      "\n",
      "நீ எங்கே இருக்கிறாய்? (Nī eṅkē irukkiṟāy?)\n"
     ]
    }
   ],
   "source": [
    "print(response.content)"
   ]
  },
  {
   "cell_type": "code",
   "execution_count": 6,
   "id": "22f479ba",
   "metadata": {},
   "outputs": [
    {
     "data": {
      "text/plain": [
       "AIMessage(content='The translation of the text \"Where are you?\" in Tamil is:\\n\\n\\nநீங்கள் எங்கே இருக்கிறீர்கள்? (Nīṅkaḷ eṅkē irukkiṟīrkaḷ?)\\n\\nor in a more informal tone:\\n\\n\\nநீ எங்கே இருக்கிறாய்? (Nī eṅkē irukkiṟāy?)', additional_kwargs={}, response_metadata={'token_usage': {'completion_tokens': 133, 'prompt_tokens': 56, 'total_tokens': 189, 'completion_time': 0.360405117, 'prompt_time': 0.004449482, 'queue_time': 0.123424198, 'total_time': 0.364854599}, 'model_name': 'llama-3.3-70b-versatile', 'system_fingerprint': 'fp_9e1e8f8435', 'service_tier': 'on_demand', 'finish_reason': 'stop', 'logprobs': None}, id='run--4f3e1fd4-8092-4e83-8bfc-aefb875bbcad-0', usage_metadata={'input_tokens': 56, 'output_tokens': 133, 'total_tokens': 189})"
      ]
     },
     "execution_count": 6,
     "metadata": {},
     "output_type": "execute_result"
    }
   ],
   "source": [
    "response =  model.invoke(prompt)\n",
    "response"
   ]
  },
  {
   "cell_type": "code",
   "execution_count": 5,
   "id": "2786a98c",
   "metadata": {},
   "outputs": [
    {
     "name": "stdout",
     "output_type": "stream",
     "text": [
      "Translate the given text in to the given language: \n",
      "Text: Where are you?\n",
      "Lang: tamil\n",
      "\n"
     ]
    }
   ],
   "source": [
    "prompt = prompt_template.format(text = \"Where are you?\", lang=\"tamil\")\n",
    "print(prompt)"
   ]
  },
  {
   "cell_type": "code",
   "execution_count": 3,
   "id": "f69d0cf6",
   "metadata": {},
   "outputs": [],
   "source": [
    "prompt_template = \"\"\"Translate the given text in to the given language: \n",
    "Text: {text}\n",
    "Lang: {lang}\n",
    "\"\"\""
   ]
  },
  {
   "cell_type": "code",
   "execution_count": 2,
   "id": "e75c2c60",
   "metadata": {},
   "outputs": [],
   "source": [
    "from langchain.chat_models import init_chat_model\n",
    "model = init_chat_model(\"llama-3.3-70b-versatile\", model_provider=\"groq\")"
   ]
  },
  {
   "cell_type": "code",
   "execution_count": 1,
   "id": "bc4b78cc",
   "metadata": {},
   "outputs": [
    {
     "data": {
      "text/plain": [
       "True"
      ]
     },
     "execution_count": 1,
     "metadata": {},
     "output_type": "execute_result"
    }
   ],
   "source": [
    "from dotenv import load_dotenv\n",
    "load_dotenv()"
   ]
  }
 ],
 "metadata": {
  "kernelspec": {
   "display_name": "MAT496",
   "language": "python",
   "name": "python3"
  },
  "language_info": {
   "codemirror_mode": {
    "name": "ipython",
    "version": 3
   },
   "file_extension": ".py",
   "mimetype": "text/x-python",
   "name": "python",
   "nbconvert_exporter": "python",
   "pygments_lexer": "ipython3",
   "version": "3.13.5"
  }
 },
 "nbformat": 4,
 "nbformat_minor": 5
}
